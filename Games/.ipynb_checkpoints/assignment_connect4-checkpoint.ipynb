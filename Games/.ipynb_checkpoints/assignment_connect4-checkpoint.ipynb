{
 "cells": [
  {
   "cell_type": "markdown",
   "metadata": {},
   "source": [
    "# Adversarial Search: Playing Connect 4\n",
    "\n",
    "\n",
    "## Instructions\n",
    "\n",
    "Total Points: Undegraduates 10, graduate students 11\n",
    "\n",
    "Complete this notebook and submit it. The notebook needs to be a complete project report with your implementation, documentation including a short discussion of how your implementation works and your design choices, and experimental results (e.g., tables and charts with simulation results) with a short discussion of what they mean. Use the provided notebook cells and insert additional code and markdown cells as needed.\n",
    "\n",
    "## Introduction\n",
    "\n",
    "You will implement different versions of agents that play Connect 4:\n",
    "\n",
    "> \"Connect 4 is a two-player connection board game, in which the players choose a color and then take turns dropping colored discs into a seven-column, six-row vertically suspended grid. The pieces fall straight down, occupying the lowest available space within the column. The objective of the game is to be the first to form a horizontal, vertical, or diagonal line of four of one's own discs.\" (see [Connect Four on Wikipedia](https://en.wikipedia.org/wiki/Connect_Four))"
   ]
  },
  {
   "cell_type": "markdown",
   "metadata": {},
   "source": [
    "## Task 1: Defining the Search Problem [1 point]\n",
    "\n",
    "Define the components of the search problem:\n",
    "\n",
    "* Initial state: empty board\n",
    "* Actions: 1 move per an unfilled column per player\n",
    "* Transition model: when a player plays thier turn, the transition model returns the new board with the player's played action \n",
    "* Goal state: 4 pieces in a row (these pieces can be horizontal, vertial, or diagnol)"
   ]
  },
  {
   "cell_type": "markdown",
   "metadata": {},
   "source": [
    "How big is the search space?\n",
    "- Since order does matter in this game, a permutation is used to calculate the search space. In connect4, the board has 3 states per spot: x mark, o mark, and empty mark. In a 6x7 board, the total number of spots is 42. Hence, the search space is 3^42 = 109418989131512359209. The search space changes depending on the size of the board. If the size of the board is smaller, then the search space decreases and similarly, if the size of the board is bigger, then the search space increases."
   ]
  },
  {
   "cell_type": "markdown",
   "metadata": {},
   "source": [
    "## Task 2: Game Environment and Random Agent [2 point]\n",
    "\n",
    "Use a numpy character array as the board."
   ]
  },
  {
   "cell_type": "code",
   "execution_count": 1,
   "metadata": {},
   "outputs": [
    {
     "name": "stdout",
     "output_type": "stream",
     "text": [
      "[[' ' ' ' ' ' ' ' ' ' ' ' ' ']\n",
      " [' ' ' ' ' ' ' ' ' ' ' ' ' ']\n",
      " [' ' ' ' ' ' ' ' ' ' ' ' ' ']\n",
      " [' ' ' ' ' ' ' ' ' ' ' ' ' ']\n",
      " [' ' ' ' ' ' ' ' ' ' ' ' ' ']\n",
      " [' ' ' ' ' ' ' ' ' ' ' ' ' ']]\n"
     ]
    }
   ],
   "source": [
    "import numpy as np\n",
    "\n",
    "def empty_board(shape=(6, 7)):\n",
    "    return np.full(shape=shape, fill_value=\" \")\n",
    "\n",
    "print(empty_board())"
   ]
  },
  {
   "cell_type": "markdown",
   "metadata": {},
   "source": [
    "Instead of colors for the players use 'x' and 'o' to represent the players. Make sure that your agent functions all have the from: `agent_type(board, player = 'x')`, where board is the current board position and player is the player whose next move it is and who the agent should play."
   ]
  },
  {
   "cell_type": "markdown",
   "metadata": {},
   "source": [
    "Implement the board and helper functions for:\n",
    "\n",
    "* The transition model (result).\n",
    "* The utility function.\n",
    "* Check for terminal states.\n",
    "* A check for available actions. \n",
    "* A function to visualize the board.\n",
    "\n",
    "Make sure that all these functions work with boards of different sizes.\n",
    "\n",
    "Implement an agent that plays randomly and let two random agents play against each other 1000 times. How often does each player win? Is the result expected? "
   ]
  },
  {
   "cell_type": "code",
   "execution_count": 2,
   "metadata": {},
   "outputs": [],
   "source": [
    "import numpy as np\n",
    "\n",
    "#clearing the board\n",
    "def clear_board(shape=(6, 7)):\n",
    "    return np.full(shape=shape, fill_value=\" \")\n",
    "\n",
    "# check for available actions aka unfilled columns\n",
    "def available_actions(board):\n",
    "    \n",
    "    #list to keep track of unfilled columns\n",
    "    availspots = []\n",
    "    index = 0\n",
    "    \n",
    "    #iterating through the columns\n",
    "    for column in range(0,board.shape[1]): \n",
    "        row = board[:,column]\n",
    "        if ' ' in row:\n",
    "            availspots.append(index)\n",
    "        index += 1\n",
    "    \n",
    "    #returning list w avail columns\n",
    "    return availspots\n",
    "\n",
    "#transition model: player making a move & filling the board with a move\n",
    "def action(player, action, board):\n",
    "    \n",
    "    #making copy of original board\n",
    "    updatedboard = board\n",
    "    \n",
    "    #player making a move- either an x or an o \n",
    "    for column in reversed(updatedboard):\n",
    "        if column[action] == ' ':\n",
    "            column[action] = player\n",
    "            return updatedboard\n",
    "    return board \n",
    "\n",
    "\n",
    "#utility function: finding if there's a winner\n",
    "def utility(player, board):\n",
    "    \n",
    "    #getting player\n",
    "    myplayer = ''\n",
    "    myplayer = player+player+player+player\n",
    "    \n",
    "    #gets size of the board\n",
    "    boardsize = len(board)\n",
    "        \n",
    "    #checking diagnol win\n",
    "    diagnol1 = [board[i][i] for i in range(boardsize)]\n",
    "    diagnol2 = [board[i][boardsize-1-i] for i in range(boardsize)]\n",
    "    winner1 = \"\"\n",
    "    winner2 = \"\"\n",
    "    w1 = winner1.join(diagnol1)\n",
    "    w2 = winner2.join(diagnol2)\n",
    "    if myplayer in w1:\n",
    "        return(player)\n",
    "    if myplayer in w2:\n",
    "        return(player)\n",
    "    \n",
    "    #checking horizontal win\n",
    "    for column in range(len(board)):\n",
    "        row = board[column,:]\n",
    "        winner = \"\"\n",
    "        w = winner.join(row)\n",
    "        if myplayer in w:\n",
    "            return(player)\n",
    "            break\n",
    "            \n",
    "    #checking vertical win\n",
    "    for column in range(len(board)): \n",
    "        row = board[:,column]\n",
    "        winner = \"\"\n",
    "        w = winner.join(row)\n",
    "        if myplayer in w:\n",
    "            return(player)\n",
    "            break\n",
    "        \n",
    "#check for terminal states\n",
    "def terminal(player, board):\n",
    "    getplayer = utility(player, board\n",
    "    if (getplayer == 'x'):\n",
    "        return(\"winner: player x\")\n",
    "    if (getplayer == 'o'):\n",
    "        return(\"winner: player o\")\n",
    "    else:\n",
    "        return ' '\n",
    "\n",
    "#visualize the board\n",
    "def visualize(board):\n",
    "    print(board)"
   ]
  },
  {
   "cell_type": "code",
   "execution_count": 40,
   "metadata": {
    "scrolled": true
   },
   "outputs": [
    {
     "name": "stdout",
     "output_type": "stream",
     "text": [
      "columns: 7\n",
      "[[' ' ' ' ' ' 'o' ' ' ' ' ' ']\n",
      " [' ' ' ' ' ' 'o' ' ' ' ' ' ']\n",
      " [' ' ' ' ' ' 'x' ' ' ' ' ' ']\n",
      " [' ' ' ' 'x' 'o' ' ' ' ' ' ']\n",
      " [' ' 'x' 'o' 'o' ' ' ' ' ' ']\n",
      " ['x' 'o' 'o' 'o' ' ' ' ' ' ']]\n",
      "available actions: [0, 1, 2, 4, 5, 6]\n",
      "winner: player x\n",
      " \n",
      "\n",
      "\n",
      "columns: 4\n",
      "[[' ' ' ' ' ' ' ']\n",
      " ['o' 'o' 'o' 'o']\n",
      " [' ' ' ' ' ' ' ']\n",
      " [' ' ' ' ' ' ' ']]\n",
      "available actions: [0, 1, 2, 3]\n",
      " \n",
      "winner: player o\n",
      "\n",
      "\n",
      "columns: 5\n",
      "[[' ' ' ' ' ' 'x' ' ']\n",
      " [' ' ' ' ' ' 'x' ' ']\n",
      " [' ' ' ' ' ' 'x' ' ']\n",
      " [' ' ' ' ' ' 'x' ' ']\n",
      " [' ' ' ' ' ' 'x' ' ']]\n",
      "available actions: [0, 1, 2, 4]\n",
      "winner: player x\n",
      " \n"
     ]
    }
   ],
   "source": [
    "#testing helper functions\n",
    "\n",
    "board = clear_board((6,7))\n",
    "print(\"columns:\", board.shape[1])\n",
    "board = action('x',0, board)\n",
    "board = action('o',1, board)\n",
    "board = action('x',1, board)\n",
    "board = action('o',2, board)\n",
    "board = action('o',2, board)\n",
    "board = action('x',2, board)\n",
    "board[:,3] = 'o'\n",
    "board[2][3] = 'x'\n",
    "visualize(board)\n",
    "print(\"available actions:\", available_actions(board))\n",
    "print(terminal('x', board))\n",
    "print(terminal('o', board))\n",
    "print(\"\\n\")\n",
    "\n",
    "board1 = clear_board((4,4))\n",
    "print(\"columns:\", board1.shape[1])\n",
    "board1[1] = 'o'\n",
    "visualize(board1)\n",
    "print(\"available actions:\", available_actions(board1))\n",
    "print(terminal('x', board1))\n",
    "print(terminal('o', board1))\n",
    "print(\"\\n\")\n",
    "\n",
    "board2 = clear_board((5,5))\n",
    "print(\"columns:\", board2.shape[1])\n",
    "board2[:,3] = 'x'\n",
    "visualize(board2)\n",
    "print(\"available actions:\", available_actions(board2))\n",
    "print(terminal('x', board2))\n",
    "print(terminal('o', board2))"
   ]
  },
  {
   "cell_type": "markdown",
   "metadata": {},
   "source": [
    "Implement an agent that plays randomly and let two random agents play against each other 1000 times. How often does each player win? Is the result expected? "
   ]
  },
  {
   "cell_type": "code",
   "execution_count": 8,
   "metadata": {},
   "outputs": [],
   "source": [
    "import random as rand\n",
    "\n",
    "def random_agent(player, board):\n",
    "    \n",
    "    #returns 1 random move from possible actions\n",
    "    play = rand.choice(available_actions(board))\n",
    "    \n",
    "    #returns the player, the 1 random play & the board \n",
    "    return (player, play, board)"
   ]
  },
  {
   "cell_type": "code",
   "execution_count": 15,
   "metadata": {},
   "outputs": [
    {
     "name": "stdout",
     "output_type": "stream",
     "text": [
      "player1 wins: 560\n",
      "player2 wins: 407\n",
      "ties: 33\n"
     ]
    }
   ],
   "source": [
    "def playing_randomly(randruns):\n",
    "\n",
    "    #initializing the amount of wins for each player\n",
    "    player1wins = 0\n",
    "    player2wins = 0\n",
    "    ties = 0\n",
    "    \n",
    "    #iterating 1000 times\n",
    "    for run in range(0, randruns):\n",
    "        \n",
    "        #initlalizing an empty board with size 6x7\n",
    "        board = clear_board((6,7))\n",
    "        \n",
    "        #initializing if there is a winner variable\n",
    "        isThereWinner = False\n",
    "\n",
    "        #while no one has won the game, do the following:\n",
    "        while(isThereWinner == False):\n",
    "            \n",
    "            #initializing my players\n",
    "            player1 = random_agent('x', board)\n",
    "            player2 = random_agent('o', board)\n",
    "\n",
    "            #player1 makes first move\n",
    "            board = action(player1[0],player1[1], board)\n",
    "\n",
    "            #checking if player1 has won\n",
    "            if ( utility(player1[0],board) == 'x'):\n",
    "                player1wins += 1\n",
    "                isThereWinner = True\n",
    "                break\n",
    "            \n",
    "            #player2 makes next move while no one has won the game\n",
    "            if(isThereWinner == False):\n",
    "                board = action(player2[0],player2[1], board)\n",
    "\n",
    "            #checking if player2 has won\n",
    "            if ( utility(player2[0],board)== 'o' ):\n",
    "                player2wins += 1\n",
    "                isThereWinner = True\n",
    "                break\n",
    "            \n",
    "            #checking if there is a tie\n",
    "            if ( (utility(player1[0],board)== ' ') or (utility(player2[0],board)== ' ') or (len(available_actions(board))==0) ):\n",
    "                ties += 1\n",
    "                isThereWinner = True\n",
    "                break\n",
    "\n",
    "    print(\"player1 wins:\", player1wins)\n",
    "    print(\"player2 wins:\", player2wins)\n",
    "    print(\"ties:\", ties)\n",
    "        \n",
    "playing_randomly(1000)"
   ]
  },
  {
   "cell_type": "markdown",
   "metadata": {},
   "source": [
    "## Task 3: Minimax Search with Alpha-Beta Pruning [4 points]\n",
    "\n",
    "### Implement the search starting from a given board and specifying the player."
   ]
  },
  {
   "cell_type": "markdown",
   "metadata": {},
   "source": [
    "__Note:__ The search space for a $6 \\times 7$ board is large. You can experiment with smaller boards (the smallest is $4 \\times 4$) and/or changing the winning rule to connect 3 instead of 4."
   ]
  },
  {
   "cell_type": "code",
   "execution_count": 234,
   "metadata": {},
   "outputs": [],
   "source": [
    "#reference: tictactoe_alpha_beta_tree_search file\n",
    "import math\n",
    "\n",
    "# global variables\n",
    "DEBUG = 1 # 1 ... count nodes, 2 ... debug each node\n",
    "COUNT = 0\n",
    "\n",
    "def alpha_beta_search(board, player = 'x'):\n",
    "    \"\"\"start the search.\"\"\"\n",
    "    global DEBUG, COUNT\n",
    "    COUNT = 0\n",
    "    \n",
    "    value, move = max_value_ab(board, player, -math.inf, +math.inf)\n",
    "    \n",
    "    if DEBUG >= 1: print(f\"Number of nodes searched: {COUNT}\") \n",
    "    \n",
    "    return value, move\n",
    "\n",
    "\n",
    "def max_value_ab(state, player, alpha, beta):\n",
    "    \"\"\"player's best move.\"\"\"\n",
    "    global DEBUG, COUNT\n",
    "    COUNT += 1\n",
    "       \n",
    "    # return utility of state is a terminal state\n",
    "    v = utility(player,state)\n",
    "    if(v == 'x'):\n",
    "        v = 1\n",
    "    elif(v == 'o'):\n",
    "        v = -1\n",
    "    \n",
    "    if DEBUG >= 2: print(\"max: \" + str(state) + str([alpha, beta, v]) ) \n",
    "    if v is not None: return v, None\n",
    "        \n",
    "    v, move = -math.inf, None\n",
    "\n",
    "    # check all possible actions in the state, update alpha and return move with the largest value\n",
    "    for a in available_actions(state):        \n",
    "        v2, a2 = min_value_ab(action(player, a, state), player, alpha, beta)\n",
    "        if v2 > v:\n",
    "            v, move = v2, a\n",
    "            alpha = max(alpha, v)\n",
    "        if v >= beta: return v, move\n",
    "    \n",
    "    return v, move\n",
    "\n",
    "def min_value_ab(state, player, alpha, beta):\n",
    "    \"\"\"opponent's best response.\"\"\"\n",
    "    global DEBUG, COUNT\n",
    "    COUNT += 1\n",
    "    \n",
    "    # return utility of state is a terminal state\n",
    "    v = utility(player,state)\n",
    "    if(v == 'x'):\n",
    "        v = 1\n",
    "    elif(v == 'o'):\n",
    "        v = -1\n",
    "        \n",
    "    if DEBUG >= 2: print(\"min: \" + str(state) + str([alpha, beta, v]) ) \n",
    "    if v is not None: return v, None\n",
    "    \n",
    "    v, move = +math.inf, None\n",
    "\n",
    "    # check all possible actions in the state, update beta and return move with the smallest value\n",
    "    for a in available_actions(state):\n",
    "        v2, a2 = max_value_ab(action('o', a, state), player, alpha, beta)\n",
    "        if v2 < v:\n",
    "            v, move = v2, a\n",
    "            beta = min(beta, v)\n",
    "        if v <= alpha: return v, move\n",
    "    \n",
    "    return v, move"
   ]
  },
  {
   "cell_type": "markdown",
   "metadata": {},
   "source": [
    "#### Experiment with some manually created boards (at least 5) to check if the agent spots winning opportunities."
   ]
  },
  {
   "cell_type": "code",
   "execution_count": 152,
   "metadata": {},
   "outputs": [
    {
     "name": "stdout",
     "output_type": "stream",
     "text": [
      "[[' ' ' ' ' ' ' ' ' ' ' ' ' ']\n",
      " [' ' ' ' ' ' ' ' ' ' ' ' ' ']\n",
      " [' ' ' ' ' ' ' ' ' ' ' ' ' ']\n",
      " ['x' ' ' ' ' ' ' ' ' ' ' ' ']\n",
      " ['x' 'o' ' ' ' ' ' ' ' ' ' ']\n",
      " ['x' 'o' ' ' 'o' ' ' ' ' ' ']]\n",
      "Number of nodes searched: 8\n"
     ]
    },
    {
     "data": {
      "text/plain": [
       "(1, 0)"
      ]
     },
     "metadata": {},
     "output_type": "display_data"
    },
    {
     "name": "stdout",
     "output_type": "stream",
     "text": [
      "10.8 ms ± 0 ns per loop (mean ± std. dev. of 1 run, 1 loop each)\n"
     ]
    }
   ],
   "source": [
    "#------- BOARD ONE ---------\n",
    "\n",
    "#empty board\n",
    "board = clear_board((6,7))\n",
    "\n",
    "#populating board manually\n",
    "board = action('x',0, board)\n",
    "board = action('o',3, board)\n",
    "board = action('x',0, board)\n",
    "board = action('o',1, board)\n",
    "board = action('x',0, board)\n",
    "board = action('o',1, board)\n",
    "\n",
    "#visualizing board\n",
    "visualize(board)\n",
    "\n",
    "#alpha beta search test\n",
    "%timeit -n1 -r1 display(alpha_beta_search(board))"
   ]
  },
  {
   "cell_type": "code",
   "execution_count": 153,
   "metadata": {},
   "outputs": [
    {
     "name": "stdout",
     "output_type": "stream",
     "text": [
      "[[' ' ' ' ' ' ' ' ' ' ' ' ' ']\n",
      " [' ' ' ' ' ' ' ' ' ' ' ' ' ']\n",
      " [' ' ' ' ' ' 'x' ' ' ' ' ' ']\n",
      " [' ' ' ' 'x' 'x' ' ' ' ' 'o']\n",
      " ['o' 'o' 'o' 'o' ' ' 'o' 'x']\n",
      " ['x' 'x' 'o' 'x' ' ' 'o' 'x']]\n",
      "Number of nodes searched: 35\n"
     ]
    },
    {
     "data": {
      "text/plain": [
       "(1, 0)"
      ]
     },
     "metadata": {},
     "output_type": "display_data"
    },
    {
     "name": "stdout",
     "output_type": "stream",
     "text": [
      "15.9 ms ± 0 ns per loop (mean ± std. dev. of 1 run, 1 loop each)\n"
     ]
    }
   ],
   "source": [
    "#------- BOARD TWO ---------\n",
    "\n",
    "#empty board\n",
    "board2 = clear_board((6,7))\n",
    "\n",
    "#populating board manually\n",
    "board2 = action('x',1, board2)\n",
    "board2 = action('o',5, board2)\n",
    "board2 = action('x',3, board2)\n",
    "board2 = action('o',3, board2)\n",
    "board2 = action('x',6, board2)\n",
    "board2 = action('o',2, board2)\n",
    "board2 = action('x',6, board2)\n",
    "board2 = action('o',2, board2)\n",
    "board2 = action('x',3, board2)\n",
    "board2 = action('o',5, board2)\n",
    "board2 = action('x',3, board2)\n",
    "board2 = action('o',6, board2)\n",
    "board2 = action('x',2, board2)\n",
    "board2 = action('o',1, board2)\n",
    "board2 = action('x',0, board2)\n",
    "board2 = action('o',0, board2)\n",
    "\n",
    "#visualizing board\n",
    "visualize(board2)\n",
    "\n",
    "#alpha beta search test\n",
    "%timeit -n1 -r1 display(alpha_beta_search(board2))"
   ]
  },
  {
   "cell_type": "code",
   "execution_count": 154,
   "metadata": {},
   "outputs": [
    {
     "name": "stdout",
     "output_type": "stream",
     "text": [
      "[[' ' ' ' ' ' 'o' ' ' ' ' ' ']\n",
      " [' ' ' ' ' ' 'o' ' ' ' ' ' ']\n",
      " [' ' ' ' ' ' 'x' ' ' ' ' ' ']\n",
      " [' ' ' ' 'x' 'o' ' ' ' ' ' ']\n",
      " [' ' 'x' 'o' 'o' ' ' ' ' ' ']\n",
      " ['x' 'o' 'o' 'o' ' ' ' ' ' ']]\n",
      "Number of nodes searched: 1\n"
     ]
    },
    {
     "data": {
      "text/plain": [
       "(1, None)"
      ]
     },
     "metadata": {},
     "output_type": "display_data"
    },
    {
     "name": "stdout",
     "output_type": "stream",
     "text": [
      "7.49 ms ± 0 ns per loop (mean ± std. dev. of 1 run, 1 loop each)\n"
     ]
    }
   ],
   "source": [
    "#------- BOARD THREE ---------\n",
    "\n",
    "#empty board\n",
    "board3 = clear_board((6,7))\n",
    "\n",
    "#populating board manually\n",
    "board3 = action('x',0, board3)\n",
    "board3 = action('o',1, board3)\n",
    "board3 = action('x',1, board3)\n",
    "board3 = action('o',2, board3)\n",
    "board3 = action('o',2, board3)\n",
    "board3 = action('x',2, board3)\n",
    "board3[:,3] = 'o'\n",
    "board3[2][3] = 'x'\n",
    "\n",
    "#visualizing board\n",
    "visualize(board3)\n",
    "\n",
    "#alpha beta search test\n",
    "%timeit -n1 -r1 display(alpha_beta_search(board3))"
   ]
  },
  {
   "cell_type": "code",
   "execution_count": 155,
   "metadata": {},
   "outputs": [
    {
     "name": "stdout",
     "output_type": "stream",
     "text": [
      "[[' ' ' ' ' ' 'x' ' ' ' ' ' ']\n",
      " [' ' ' ' ' ' 'x' ' ' ' ' ' ']\n",
      " [' ' ' ' ' ' 'o' ' ' 'x' 'x']\n",
      " [' ' 'o' 'x' 'x' 'x' 'o' 'o']\n",
      " [' ' 'o' 'o' 'x' 'x' 'x' 'o']\n",
      " [' ' 'o' 'o' 'x' 'x' 'o' 'o']]\n",
      "Number of nodes searched: 67\n"
     ]
    },
    {
     "data": {
      "text/plain": [
       "(1, 0)"
      ]
     },
     "metadata": {},
     "output_type": "display_data"
    },
    {
     "name": "stdout",
     "output_type": "stream",
     "text": [
      "17.1 ms ± 0 ns per loop (mean ± std. dev. of 1 run, 1 loop each)\n"
     ]
    }
   ],
   "source": [
    "#------- BOARD FOUR ---------\n",
    "\n",
    "#empty board\n",
    "board4 = clear_board((6,7))\n",
    "\n",
    "#populating board manually\n",
    "board4 = action('x',3, board4)\n",
    "board4 = action('o',6, board4)\n",
    "board4 = action('x',3, board4)\n",
    "board4 = action('o',5, board4)\n",
    "board4 = action('x',3, board4)\n",
    "board4 = action('o',3, board4)\n",
    "board4 = action('x',5, board4)\n",
    "board4 = action('o',2, board4)\n",
    "board4 = action('x',3, board4)\n",
    "board4 = action('o',5, board4)\n",
    "board4 = action('x',3, board4)\n",
    "board4 = action('o',2, board4)\n",
    "board4 = action('x',4, board4)\n",
    "board4 = action('o',1, board4)\n",
    "board4 = action('x',4, board4)\n",
    "board4 = action('o',6, board4)\n",
    "board4 = action('x',2, board4)\n",
    "board4 = action('o',6, board4)\n",
    "board4 = action('x',4, board4)\n",
    "board4 = action('o',3, board4)\n",
    "board4 = action('x',6, board4)\n",
    "board4 = action('o',1, board4)\n",
    "board4 = action('x',5, board4)\n",
    "board4 = action('o',1, board4)\n",
    "\n",
    "\n",
    "#visualizing board\n",
    "visualize(board4)\n",
    "\n",
    "#alpha beta search test\n",
    "%timeit -n1 -r1 display(alpha_beta_search(board4))"
   ]
  },
  {
   "cell_type": "code",
   "execution_count": 156,
   "metadata": {},
   "outputs": [
    {
     "name": "stdout",
     "output_type": "stream",
     "text": [
      "[['o' ' ' 'o' ' ' ' ' ' ' ' ']\n",
      " ['x' ' ' 'x' ' ' ' ' ' ' ' ']\n",
      " ['o' ' ' 'o' ' ' ' ' 'x' ' ']\n",
      " ['x' ' ' 'o' ' ' 'x' 'o' 'x']\n",
      " ['x' 'o' 'o' ' ' 'x' 'x' 'o']\n",
      " ['o' 'x' 'x' ' ' 'o' 'x' 'o']]\n",
      "Number of nodes searched: 41\n"
     ]
    },
    {
     "data": {
      "text/plain": [
       "(1, 1)"
      ]
     },
     "metadata": {},
     "output_type": "display_data"
    },
    {
     "name": "stdout",
     "output_type": "stream",
     "text": [
      "7.57 ms ± 0 ns per loop (mean ± std. dev. of 1 run, 1 loop each)\n"
     ]
    }
   ],
   "source": [
    "#------- BOARD FIVE ---------\n",
    "\n",
    "#empty board\n",
    "board5 = clear_board((6,7))\n",
    "\n",
    "#populating board manually\n",
    "board5 = action('x',1, board5)\n",
    "board5 = action('o',4, board5)\n",
    "board5 = action('x',2, board5)\n",
    "board5 = action('o',0, board5)\n",
    "board5 = action('x',5, board5)\n",
    "board5 = action('o',6, board5)\n",
    "board5 = action('x',0, board5)\n",
    "board5 = action('o',2, board5)\n",
    "board5 = action('x',5, board5)\n",
    "board5 = action('o',5, board5)\n",
    "board5 = action('x',4, board5)\n",
    "board5 = action('o',2, board5)\n",
    "board5 = action('x',0, board5)\n",
    "board5 = action('o',2, board5)\n",
    "board5 = action('x',4, board5)\n",
    "board5 = action('o',6, board5)\n",
    "board5 = action('x',5, board5)\n",
    "board5 = action('o',1, board5)\n",
    "board5 = action('x',2, board5)\n",
    "board5 = action('o',0, board5)\n",
    "board5 = action('x',6, board5)\n",
    "board5 = action('o',2, board5)\n",
    "board5 = action('x',0, board5)\n",
    "board5 = action('o',0, board5)\n",
    "\n",
    "#visualizing board\n",
    "visualize(board5)\n",
    "\n",
    "#alpha beta search test\n",
    "%timeit -n1 -r1 display(alpha_beta_search(board5))"
   ]
  },
  {
   "cell_type": "markdown",
   "metadata": {},
   "source": [
    "#### How long does it take to make a move? Start with a smaller board with 4 columns and make the board larger by adding columns."
   ]
  },
  {
   "cell_type": "code",
   "execution_count": 550,
   "metadata": {},
   "outputs": [
    {
     "name": "stdout",
     "output_type": "stream",
     "text": [
      "[['x' ' ' ' ' ' ']\n",
      " ['x' 'x' ' ' ' ']\n",
      " ['x' 'o' ' ' 'x']\n",
      " ['x' 'o' 'x' 'o']]\n",
      "CPU times: user 1.1 ms, sys: 0 ns, total: 1.1 ms\n",
      "Wall time: 1.13 ms\n"
     ]
    }
   ],
   "source": [
    "%%time\n",
    "#------- BOARD 4x4 (TEST 1) ---------\n",
    "\n",
    "#empty board\n",
    "board = clear_board((4,4))\n",
    "\n",
    "#populating the board\n",
    "board = action('x',0, board)\n",
    "board = action('o',3, board)\n",
    "board = action('x',0, board)\n",
    "board = action('o',1, board)\n",
    "board = action('x',0, board)\n",
    "board = action('o',1, board)\n",
    "\n",
    "#timing testing with alpha beta search\n",
    "DEBUG = 0\n",
    "move = alpha_beta_search(board)\n",
    "\n",
    "#visualizing board\n",
    "visualize(board)"
   ]
  },
  {
   "cell_type": "code",
   "execution_count": 272,
   "metadata": {},
   "outputs": [
    {
     "name": "stdout",
     "output_type": "stream",
     "text": [
      "[[' ' ' ' ' ' ' ' ' ']\n",
      " ['o' 'o' ' ' ' ' ' ']\n",
      " ['o' 'x' ' ' ' ' ' ']\n",
      " ['o' 'x' ' ' ' ' ' ']\n",
      " ['o' 'x' 'o' 'o' 'o']]\n",
      "CPU times: user 910 µs, sys: 3.35 ms, total: 4.26 ms\n",
      "Wall time: 5.33 ms\n"
     ]
    }
   ],
   "source": [
    "%%time\n",
    "#------- BOARD 5x5 (TEST 2) ---------\n",
    "\n",
    "#empty board\n",
    "board2 = clear_board((5,5))\n",
    "\n",
    "#populating board manually\n",
    "board2 = action('x',1, board2)\n",
    "board2 = action('o',0, board2)\n",
    "board2 = action('x',1, board2)\n",
    "board2 = action('o',0, board2)\n",
    "board2 = action('x',1, board2)\n",
    "board2 = action('o',0, board2)\n",
    "\n",
    "#timing testing with alpha beta search\n",
    "DEBUG = 0\n",
    "move = alpha_beta_search(board2,player = 'o')\n",
    "\n",
    "#visualizing board\n",
    "visualize(board2)"
   ]
  },
  {
   "cell_type": "code",
   "execution_count": 275,
   "metadata": {},
   "outputs": [
    {
     "name": "stdout",
     "output_type": "stream",
     "text": [
      "[['o' 'o' 'o' 'o' 'o']\n",
      " ['o' 'o' 'o' 'o' 'o']\n",
      " ['o' 'o' 'x' 'o' 'o']\n",
      " ['x' 'o' 'o' 'o' 'x']\n",
      " ['o' 'x' 'o' 'x' 'x']]\n",
      "CPU times: user 6.32 ms, sys: 2.11 ms, total: 8.43 ms\n",
      "Wall time: 9.07 ms\n"
     ]
    }
   ],
   "source": [
    "%%time\n",
    "#------- BOARD 5x5 (TEST 3) ---------\n",
    "\n",
    "#empty board\n",
    "board3 = clear_board((5,5))\n",
    "\n",
    "#populating board manually\n",
    "board3 = action('x',1, board3)\n",
    "board3 = action('o',0, board3)\n",
    "board3 = action('x',3, board3)\n",
    "board3 = action('o',2, board3)\n",
    "board3 = action('x',4, board3)\n",
    "board3 = action('o',2, board3)\n",
    "board3 = action('x',0, board3)\n",
    "board3 = action('o',1, board3)\n",
    "board3 = action('x',2, board3)\n",
    "board3 = action('o',0, board3)\n",
    "board3 = action('x',4, board3)\n",
    "board3 = action('o',2, board3)\n",
    "\n",
    "#timing testing with alpha beta search\n",
    "DEBUG = 0\n",
    "move = alpha_beta_search(board3, player = 'o')\n",
    "\n",
    "#visualizing board\n",
    "visualize(board3)"
   ]
  },
  {
   "cell_type": "code",
   "execution_count": 301,
   "metadata": {},
   "outputs": [
    {
     "name": "stdout",
     "output_type": "stream",
     "text": [
      "[[' ' ' ' ' ' ' ' ' ' ' ']\n",
      " [' ' 'o' 'o' 'o' 'o' ' ']\n",
      " ['o' 'o' 'o' 'o' 'o' 'o']\n",
      " ['o' 'x' 'o' 'x' 'o' 'o']\n",
      " ['o' 'o' 'x' 'x' 'x' 'o']\n",
      " ['o' 'x' 'o' 'x' 'o' 'x']]\n",
      "CPU times: user 5.12 ms, sys: 3.33 ms, total: 8.44 ms\n",
      "Wall time: 11.5 ms\n"
     ]
    }
   ],
   "source": [
    "%%time\n",
    "#------- BOARD 6x6 (TEST 4) ---------\n",
    "\n",
    "#empty board\n",
    "board4 = clear_board((6,6))\n",
    "\n",
    "#populating board manually\n",
    "board4 = action('x',1, board4)\n",
    "board4 = action('o',0, board4)\n",
    "board4 = action('x',3, board4)\n",
    "board4 = action('o',4, board4)\n",
    "board4 = action('x',5, board4)\n",
    "board4 = action('o',2, board4)\n",
    "board4 = action('x',3, board4)\n",
    "board4 = action('o',1, board4)\n",
    "board4 = action('x',2, board4)\n",
    "board4 = action('o',0, board4)\n",
    "board4 = action('x',4, board4)\n",
    "board4 = action('o',2, board4)\n",
    "board4 = action('x',1, board4)\n",
    "board4 = action('o',5, board4)\n",
    "board4 = action('x',3, board4)\n",
    "board4 = action('o',4, board4)\n",
    "\n",
    "#timing testing with alpha beta search\n",
    "DEBUG = 0\n",
    "move = alpha_beta_search(board4, player = 'o')\n",
    "\n",
    "#visualizing board\n",
    "visualize(board4)"
   ]
  },
  {
   "cell_type": "code",
   "execution_count": 516,
   "metadata": {},
   "outputs": [
    {
     "name": "stdout",
     "output_type": "stream",
     "text": [
      "[[' ' ' ' ' ' 'o' ' ' ' ']\n",
      " [' ' ' ' 'o' 'o' 'o' ' ']\n",
      " ['o' 'o' 'o' 'x' 'o' 'o']\n",
      " ['o' 'o' 'o' 'o' 'o' 'o']\n",
      " ['o' 'x' 'x' 'x' 'x' 'o']\n",
      " ['o' 'x' 'o' 'x' 'o' 'x']]\n",
      "CPU times: user 6.93 ms, sys: 2.69 ms, total: 9.62 ms\n",
      "Wall time: 10.7 ms\n"
     ]
    }
   ],
   "source": [
    "%%time\n",
    "#------- BOARD 6x6 (TEST 5) ---------\n",
    "\n",
    "#empty board\n",
    "board5 = clear_board((6,6))\n",
    "\n",
    "#populating board manually\n",
    "board5 = action('x',1, board5)\n",
    "board5 = action('o',0, board5)\n",
    "board5 = action('x',3, board5)\n",
    "board5 = action('o',4, board5)\n",
    "board5 = action('x',5, board5)\n",
    "board5 = action('o',2, board5)\n",
    "board5 = action('x',3, board5)\n",
    "board5 = action('o',3, board5)\n",
    "board5 = action('x',2, board5)\n",
    "board5 = action('o',0, board5)\n",
    "board5 = action('x',4, board5)\n",
    "board5 = action('o',2, board5)\n",
    "board5 = action('x',1, board5)\n",
    "board5 = action('o',5, board5)\n",
    "board5 = action('x',3, board5)\n",
    "board5 = action('o',4, board5)\n",
    "\n",
    "#timing testing with alpha beta search\n",
    "DEBUG = 0\n",
    "move = alpha_beta_search(board5, player = 'o')\n",
    "\n",
    "#visualizing board\n",
    "visualize(board5)"
   ]
  },
  {
   "cell_type": "code",
   "execution_count": 551,
   "metadata": {},
   "outputs": [
    {
     "data": {
      "image/png": "[encoded data removed]",
      "text/plain": [
       "<Figure size 720x360 with 1 Axes>"
      ]
     },
     "metadata": {
      "needs_background": "light"
     },
     "output_type": "display_data"
    }
   ],
   "source": [
    "#PLOT DISPLAYING BOARD SIZE & EXECUTION TIMES\n",
    "\n",
    "import matplotlib.pyplot as plot\n",
    "\n",
    "#setting up graph dimensions\n",
    "mygraph = plot.figure(figsize = (10, 5))\n",
    "plotvalues = [('4x4', 1.13), ('5x5 board 1', 5.33), ('5x5 board 2', 9.07), ('6x6 board 1', 11.5), ('6x6 board 2', 10.7)]\n",
    "x = [value[0] for value in plotvalues]\n",
    "y = [value[1] for value in plotvalues]\n",
    "plot.plot(x, y)\n",
    "plot.scatter('4x4', 1.13, facecolor='red')\n",
    "plot.scatter('5x5 board 1', 5.33, facecolor='red')\n",
    "plot.scatter('5x5 board 2', 9.07, facecolor='red')\n",
    "plot.scatter('6x6 board 1', 11.5, facecolor='red')\n",
    "plot.scatter('6x6 board 2', 10.7, facecolor='red')\n",
    "plot.title('Board Size vs. Execution Times')\n",
    "plot.ylabel('Time (in ms)')\n",
    "plot.xlabel('Board Size')\n",
    "plot.show()"
   ]
  },
  {
   "cell_type": "markdown",
   "metadata": {},
   "source": [
    "Discussion:\n",
    "* In order to see the execution timing difference between different size graphs, I plotted a line graph to compare the data.  \n",
    "* Based on the results above, as seen on the graph, there is a noticible pattern: as the board increases in size, the execution time increases as well. This is expected because the nodes explored increases with a bigger state space. Since there are more calls for the program to make, hence it takes more time for the program to execute."
   ]
  },
  {
   "cell_type": "markdown",
   "metadata": {},
   "source": [
    "### Move ordering\n",
    "\n",
    "Describe and implement a simple move ordering strategy. How does this strategy influence the time it takes to \n",
    "make a move?"
   ]
  },
  {
   "cell_type": "code",
   "execution_count": 596,
   "metadata": {},
   "outputs": [],
   "source": [
    "#reference: tictactoe_alpha_beta_tree_search file\n",
    "import math\n",
    "\n",
    "# moving ordering strategy: check known good moves first to get a good bound early\n",
    "# personally- for connect4, i believe playing in the middle column is a good strategy, so my strategy is to check the middle column\n",
    "def middle_ordering(board):\n",
    "    \n",
    "    #getting num of columns in board\n",
    "    boardsize = board.shape[1]\n",
    "    \n",
    "    #getting original columns in board\n",
    "    originalcolumns = []\n",
    "    for i in range(0,boardsize):\n",
    "        originalcolumns.append(i)\n",
    "    \n",
    "    #breaking it down for board size\n",
    "    if(boardsize == 4):\n",
    "        priority = [0,1,1,0]\n",
    "    \n",
    "    elif(boardsize == 5):\n",
    "        priority = [0,1,2,1,0]\n",
    "        \n",
    "    elif(boardsize == 6):\n",
    "        priority = [0,1,2,2,1,0]\n",
    "    \n",
    "    elif(boardsize == 7):\n",
    "        priority = [0,1,2,3,2,1,0]\n",
    "    \n",
    "    #initializing a list that has the best columns\n",
    "    bestcolumns = []\n",
    "    \n",
    "    #finding priority column & inserting in variable\n",
    "    priority = [priority[i] for i in originalcolumns]\n",
    "    bestcolumns =[a for _,a in sorted(zip(priority,originalcolumns), reverse=True)]\n",
    "    \n",
    "    #returning list of columns based on priority\n",
    "    return bestcolumns\n",
    "\n",
    "#no ordering\n",
    "def no_ordering(board):\n",
    "    \n",
    "    #getting num of columns in board\n",
    "    boardsize = board.shape[1]\n",
    "    \n",
    "    #getting original columns in board\n",
    "    originalcolumns = []\n",
    "    for i in range(0,boardsize):\n",
    "        originalcolumns.append(i)\n",
    "    \n",
    "    #returning list of original columns (not based on priority)\n",
    "    return originalcolumns\n",
    "\n",
    "# global variables\n",
    "DEBUG = 0 # 1 ... count nodes, 2 ... debug each node\n",
    "COUNT = 0\n",
    "\n",
    "def alpha_beta_search(board, player = 'x', order = no_ordering):\n",
    "    \"\"\"start the search.\"\"\"\n",
    "    global DEBUG, COUNT\n",
    "    COUNT = 0\n",
    "    \n",
    "    value, move = max_value_ab(board, player, -math.inf, +math.inf, order)\n",
    "    \n",
    "    if DEBUG >= 1: print(f\"Number of nodes searched: {COUNT}\") \n",
    "    \n",
    "    return value, move\n",
    "\n",
    "\n",
    "def max_value_ab(state, player, alpha, beta, order):\n",
    "    \"\"\"player's best move.\"\"\"\n",
    "    global DEBUG, COUNT\n",
    "    COUNT += 1\n",
    "       \n",
    "    # return utility of state is a terminal state\n",
    "    v = utility(player,state)\n",
    "    if(v == 'x'):\n",
    "        v = 1\n",
    "    elif(v == 'o'):\n",
    "        v = -1\n",
    "    \n",
    "    if DEBUG >= 2: print(\"max: \" + str(state) + str([alpha, beta, v]) ) \n",
    "    if v is not None: return v, None\n",
    "        \n",
    "    v, move = -math.inf, None\n",
    "\n",
    "    # check all possible actions in the state, update alpha and return move with the largest value\n",
    "    for a in order(state):        \n",
    "        v2, a2 = min_value_ab(action(player, a, state), player, alpha, beta, order)\n",
    "        if v2 > v:\n",
    "            v, move = v2, a\n",
    "            alpha = max(alpha, v)\n",
    "        if v >= beta: return v, move\n",
    "    \n",
    "    return v, move\n",
    "\n",
    "def min_value_ab(state, player, alpha, beta, order):\n",
    "    \"\"\"opponent's best response.\"\"\"\n",
    "    global DEBUG, COUNT\n",
    "    COUNT += 1\n",
    "    \n",
    "    # return utility of state is a terminal state\n",
    "    v = utility(player,state)\n",
    "    if(v == 'x'):\n",
    "        v = 1\n",
    "    elif(v == 'o'):\n",
    "        v = -1\n",
    "        \n",
    "    if DEBUG >= 2: print(\"min: \" + str(state) + str([alpha, beta, v]) ) \n",
    "    if v is not None: return v, None\n",
    "    \n",
    "    v, move = +math.inf, None\n",
    "\n",
    "    # check all possible actions in the state, update beta and return move with the smallest value\n",
    "    for a in order(state):\n",
    "        v2, a2 = max_value_ab(action('o', a, state), player, alpha, beta, order)\n",
    "        if v2 < v:\n",
    "            v, move = v2, a\n",
    "            beta = min(beta, v)\n",
    "        if v <= alpha: return v, move\n",
    "    \n",
    "    return v, move"
   ]
  },
  {
   "cell_type": "code",
   "execution_count": 630,
   "metadata": {},
   "outputs": [
    {
     "name": "stdout",
     "output_type": "stream",
     "text": [
      "[['o' 'o' 'o' 'o']\n",
      " ['x' 'o' 'o' 'o']\n",
      " ['x' 'o' 'o' 'o']\n",
      " ['x' 'o' 'o' 'o']]\n",
      "CPU times: user 1.1 ms, sys: 0 ns, total: 1.1 ms\n",
      "Wall time: 1.12 ms\n"
     ]
    }
   ],
   "source": [
    "%%time\n",
    "#------- ORDERING BOARD 4x4 (TEST 1) ---------\n",
    "\n",
    "#empty board\n",
    "board = clear_board((4,4))\n",
    "\n",
    "#populating the board\n",
    "board = action('x',0, board)\n",
    "board = action('o',3, board)\n",
    "board = action('x',0, board)\n",
    "board = action('o',1, board)\n",
    "board = action('x',0, board)\n",
    "board = action('o',1, board)\n",
    "\n",
    "#timing testing with alpha beta search\n",
    "move = alpha_beta_search(board,player='o', order = middle_ordering)\n",
    "\n",
    "#visualizing board\n",
    "visualize(board)"
   ]
  },
  {
   "cell_type": "code",
   "execution_count": 643,
   "metadata": {},
   "outputs": [
    {
     "name": "stdout",
     "output_type": "stream",
     "text": [
      "[['o' 'o' ' ' ' ' ' ']\n",
      " ['o' 'o' 'o' 'o' 'o']\n",
      " ['o' 'x' 'o' 'o' 'o']\n",
      " ['o' 'x' 'o' 'o' 'o']\n",
      " ['o' 'x' 'o' 'o' 'o']]\n",
      "CPU times: user 1.96 ms, sys: 0 ns, total: 1.96 ms\n",
      "Wall time: 2.03 ms\n"
     ]
    }
   ],
   "source": [
    "%%time\n",
    "#------- ORDERING BOARD 5x5 (TEST 2) ---------\n",
    "\n",
    "#empty board\n",
    "board2 = clear_board((5,5))\n",
    "\n",
    "#populating board manually\n",
    "board2 = action('x',1, board2)\n",
    "board2 = action('o',0, board2)\n",
    "board2 = action('x',1, board2)\n",
    "board2 = action('o',0, board2)\n",
    "board2 = action('x',1, board2)\n",
    "board2 = action('o',0, board2)\n",
    "\n",
    "#timing testing with alpha beta search\n",
    "move = alpha_beta_search(board2,player = 'o', order = middle_ordering)\n",
    "\n",
    "#visualizing board\n",
    "visualize(board2)"
   ]
  },
  {
   "cell_type": "code",
   "execution_count": 652,
   "metadata": {},
   "outputs": [
    {
     "name": "stdout",
     "output_type": "stream",
     "text": [
      "[[' ' ' ' ' ' ' ' ' ']\n",
      " ['o' ' ' 'o' ' ' ' ']\n",
      " ['o' 'o' 'o' 'o' 'o']\n",
      " ['x' 'o' 'o' 'o' 'o']\n",
      " ['o' 'x' 'o' 'x' 'x']]\n",
      "CPU times: user 6.13 ms, sys: 1.29 ms, total: 7.42 ms\n",
      "Wall time: 4.92 ms\n"
     ]
    }
   ],
   "source": [
    "%%time\n",
    "#------- ORDERING BOARD 5x5 (TEST 3) ---------\n",
    "\n",
    "#empty board\n",
    "board3 = clear_board((5,5))\n",
    "\n",
    "#populating board manually\n",
    "board3 = action('x',1, board3)\n",
    "board3 = action('o',0, board3)\n",
    "board3 = action('x',3, board3)\n",
    "board3 = action('o',2, board3)\n",
    "board3 = action('x',4, board3)\n",
    "board3 = action('o',2, board3)\n",
    "board3 = action('x',0, board3)\n",
    "\n",
    "#timing testing with alpha beta search\n",
    "move = alpha_beta_search(board3, player = 'o', order = middle_ordering)\n",
    "\n",
    "#visualizing board\n",
    "visualize(board3)"
   ]
  },
  {
   "cell_type": "code",
   "execution_count": 661,
   "metadata": {},
   "outputs": [
    {
     "name": "stdout",
     "output_type": "stream",
     "text": [
      "[[' ' ' ' ' ' ' ' ' ' ' ']\n",
      " [' ' ' ' ' ' ' ' ' ' ' ']\n",
      " [' ' 'o' 'o' 'o' 'o' ' ']\n",
      " ['o' 'x' 'o' 'x' 'o' 'o']\n",
      " ['o' 'o' 'x' 'x' 'x' 'o']\n",
      " ['o' 'x' 'o' 'x' 'o' 'x']]\n",
      "CPU times: user 3.51 ms, sys: 3.35 ms, total: 6.86 ms\n",
      "Wall time: 7.23 ms\n"
     ]
    }
   ],
   "source": [
    "%%time\n",
    "#------- ORDERING BOARD 6x6 (TEST 4) ---------\n",
    "\n",
    "#empty board\n",
    "board4 = clear_board((6,6))\n",
    "\n",
    "#populating board manually\n",
    "board4 = action('x',1, board4)\n",
    "board4 = action('o',0, board4)\n",
    "board4 = action('x',3, board4)\n",
    "board4 = action('o',4, board4)\n",
    "board4 = action('x',5, board4)\n",
    "board4 = action('o',2, board4)\n",
    "board4 = action('x',3, board4)\n",
    "board4 = action('o',1, board4)\n",
    "board4 = action('x',2, board4)\n",
    "board4 = action('o',0, board4)\n",
    "board4 = action('x',4, board4)\n",
    "board4 = action('o',2, board4)\n",
    "board4 = action('x',1, board4)\n",
    "board4 = action('o',5, board4)\n",
    "board4 = action('x',3, board4)\n",
    "board4 = action('o',4, board4)\n",
    "\n",
    "#timing testing with alpha beta search\n",
    "DEBUG = 0\n",
    "move = alpha_beta_search(board4, player = 'o', order = middle_ordering)\n",
    "\n",
    "#visualizing board\n",
    "visualize(board4)"
   ]
  },
  {
   "cell_type": "code",
   "execution_count": 669,
   "metadata": {},
   "outputs": [
    {
     "name": "stdout",
     "output_type": "stream",
     "text": [
      "[[' ' ' ' 'o' 'o' 'o' ' ']\n",
      " ['o' 'o' 'o' 'o' 'o' 'o']\n",
      " ['o' 'o' 'o' 'o' 'o' 'o']\n",
      " ['o' 'o' 'o' 'o' 'x' 'o']\n",
      " ['o' 'x' 'x' 'x' 'x' 'o']\n",
      " ['o' 'x' 'o' 'x' 'o' 'x']]\n",
      "CPU times: user 6.61 ms, sys: 2.3 ms, total: 8.91 ms\n",
      "Wall time: 7.51 ms\n"
     ]
    }
   ],
   "source": [
    "%%time\n",
    "#------- ORDERING BOARD 6x6 (TEST 5) ---------\n",
    "\n",
    "#empty board\n",
    "board5 = clear_board((6,6))\n",
    "\n",
    "#populating board manually\n",
    "board5 = action('x',1, board5)\n",
    "board5 = action('o',0, board5)\n",
    "board5 = action('x',3, board5)\n",
    "board5 = action('o',4, board5)\n",
    "board5 = action('x',5, board5)\n",
    "board5 = action('o',2, board5)\n",
    "board5 = action('x',3, board5)\n",
    "board5 = action('o',3, board5)\n",
    "board5 = action('x',2, board5)\n",
    "board5 = action('o',0, board5)\n",
    "board5 = action('x',4, board5)\n",
    "board5 = action('o',2, board5)\n",
    "board5 = action('x',1, board5)\n",
    "board5 = action('o',5, board5)\n",
    "board5 = action('x',4, board5)\n",
    "board5 = action('o',4, board5)\n",
    "\n",
    "#timing testing with alpha beta search\n",
    "DEBUG = 0\n",
    "move = alpha_beta_search(board5, player = 'o', order = middle_ordering)\n",
    "\n",
    "#visualizing board\n",
    "visualize(board5)"
   ]
  },
  {
   "cell_type": "code",
   "execution_count": null,
   "metadata": {},
   "outputs": [],
   "source": [
    "#PLOT DISPLAYING BOARD SIZE & EXECUTION TIMES\n",
    "\n",
    "import matplotlib.pyplot as plot\n",
    "\n",
    "#setting up graph dimensions\n",
    "mygraph = plot.figure(figsize = (10, 5))\n",
    "plotvalues = [('4x4', 1.12), ('5x5 board 1', 5.33), ('5x5 board 2', 9.07), ('6x6 board 1', 11.5), ('6x6 board 2', 10.7)]\n",
    "x = [value[0] for value in plotvalues]\n",
    "y = [value[1] for value in plotvalues]\n",
    "plot.plot(x, y)\n",
    "plot.scatter('4x4', 1.12, facecolor='red')\n",
    "plot.scatter('5x5 board 1', 2.03, facecolor='red')\n",
    "plot.scatter('5x5 board 2', 4.92, facecolor='red')\n",
    "plot.scatter('6x6 board 1', 7.23, facecolor='red')\n",
    "plot.scatter('6x6 board 2', 7.51, facecolor='red')\n",
    "plot.title('Board Size vs. Execution Times')\n",
    "plot.ylabel('Time (in ms)')\n",
    "plot.xlabel('Board Size')\n",
    "plot.show()"
   ]
  },
  {
   "cell_type": "markdown",
   "metadata": {},
   "source": [
    "### Playtime\n",
    "\n",
    "Let the Minimax Search agent play a random agent on a small board. Analyze wins, losses and draws."
   ]
  },
  {
   "cell_type": "code",
   "execution_count": 179,
   "metadata": {},
   "outputs": [],
   "source": [
    "# Your code/ answer goes here."
   ]
  },
  {
   "cell_type": "markdown",
   "metadata": {},
   "source": [
    "## Task 4: Heuristic Alpha-Beta Tree Search [3 points] \n",
    "\n",
    "### Heuristic evaluation function\n",
    "\n",
    "Define and implement a heuristic evaluation function."
   ]
  },
  {
   "cell_type": "code",
   "execution_count": 180,
   "metadata": {},
   "outputs": [],
   "source": [
    "# Your code/ answer goes here."
   ]
  },
  {
   "cell_type": "markdown",
   "metadata": {},
   "source": [
    "### Cutting off search \n",
    "\n",
    "Modify your Minimax Search with Alpha-Beta Pruning to cut off search at a specified depth and use the heuristic evaluation function. Experiment with different cutoff values."
   ]
  },
  {
   "cell_type": "code",
   "execution_count": 181,
   "metadata": {},
   "outputs": [],
   "source": [
    "# Your code/ answer goes here."
   ]
  },
  {
   "cell_type": "markdown",
   "metadata": {},
   "source": [
    "Experiment with the same manually created boards as above to check if the agent spots wining opportunities."
   ]
  },
  {
   "cell_type": "code",
   "execution_count": 182,
   "metadata": {},
   "outputs": [],
   "source": [
    "# Your code/ answer goes here."
   ]
  },
  {
   "cell_type": "markdown",
   "metadata": {},
   "source": [
    "How long does it take to make a move? Start with a smaller board with 4 columns and make the board larger by adding columns."
   ]
  },
  {
   "cell_type": "code",
   "execution_count": 183,
   "metadata": {},
   "outputs": [],
   "source": [
    "# Your code/ answer goes here."
   ]
  },
  {
   "cell_type": "markdown",
   "metadata": {},
   "source": [
    "### Playtime\n",
    "\n",
    "Let two heuristic search agents (different cutoff depth, different heuristic evaluation function) compete against each other on a reasonably sized board. Since there is no randomness, you only need to let them play once."
   ]
  },
  {
   "cell_type": "code",
   "execution_count": 184,
   "metadata": {},
   "outputs": [],
   "source": [
    "# Your code/ answer goes here."
   ]
  },
  {
   "cell_type": "markdown",
   "metadata": {},
   "source": [
    "## Challenge task [+ 1 bonus point]\n",
    "\n",
    "Find another student and let your best agent play against the other student's best player. We will set up a class tournament on Canvas. This tournament will continue after the submission deadline."
   ]
  },
  {
   "cell_type": "markdown",
   "metadata": {},
   "source": [
    "## Graduate student advanced task: Pure Monte Carlo Search and Best First Move [1 point]\n",
    "\n",
    "__Undergraduate students:__ This is a bonus task you can attempt if you like [+1 Bonus point].\n",
    "\n",
    "### Pure Monte Carlos Search\n",
    "\n",
    "Implement Pure Monte Carlo Search and investigate how this search performs on the test boards that you have used above. "
   ]
  },
  {
   "cell_type": "code",
   "execution_count": 185,
   "metadata": {},
   "outputs": [],
   "source": [
    "# Your code/ answer goes here."
   ]
  },
  {
   "cell_type": "markdown",
   "metadata": {},
   "source": [
    "### Best First Move\n",
    "\n",
    "How would you determine what the best first move is? You can use Pure Monte Carlo Search or any algorithms \n",
    "that you have implemented above."
   ]
  },
  {
   "cell_type": "code",
   "execution_count": 186,
   "metadata": {},
   "outputs": [],
   "source": [
    "# Your code/ answer goes here."
   ]
  },
  {
   "cell_type": "code",
   "execution_count": null,
   "metadata": {},
   "outputs": [],
   "source": []
  }
 ],
 "metadata": {
  "kernelspec": {
   "display_name": "Python 3",
   "language": "python",
   "name": "python3"
  },
  "language_info": {
   "codemirror_mode": {
    "name": "ipython",
    "version": 3
   },
   "file_extension": ".py",
   "mimetype": "text/x-python",
   "name": "python",
   "nbconvert_exporter": "python",
   "pygments_lexer": "ipython3",
   "version": "3.8.6"
  }
 },
 "nbformat": 4,
 "nbformat_minor": 4
}
